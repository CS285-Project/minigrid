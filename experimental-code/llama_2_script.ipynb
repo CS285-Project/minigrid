{
 "cells": [
  {
   "cell_type": "code",
   "execution_count": 6,
   "metadata": {},
   "outputs": [],
   "source": [
    "import torch\n",
    "from transformers import LlamaTokenizer, LlamaForCausalLM\n",
    "from transformers import pipeline\n",
    "\n",
    "device = torch.device(\"cuda\") if torch.cuda.is_available() else torch.device(\"cpu\")\n",
    "model_path = \"meta-llama/Llama-2-13b-chat-hf\"\n",
    "\n",
    "tokenizer, model, pipe = None, None, None\n",
    "\n",
    "def interact_with_llama(prompt):\n",
    "    global tokenizer, model, path\n",
    "    if tokenizer is None:\n",
    "        print(\"Model loading started\")\n",
    "        tokenizer = LlamaTokenizer.from_pretrained(model_path)\n",
    "        model = LlamaForCausalLM.from_pretrained(\n",
    "            model_path, torch_dtype=torch.float16\n",
    "        )\n",
    "        print(\"Model loading finished\")\n",
    "        pipe = pipeline(\"text-generation\", model=model.to(device), tokenizer=tokenizer, device=device)\n",
    "    input_str = f'''You are a helpful virtual assistant who gives polite and helpful answers to user questions.\n",
    "    Question: {prompt} Answer:'''\n",
    "    returned = pipe(input_str)\n",
    "    return returned.replace(input_str, \"\")\n"
   ]
  },
  {
   "cell_type": "code",
   "execution_count": null,
   "metadata": {},
   "outputs": [
    {
     "name": "stdout",
     "output_type": "stream",
     "text": [
      "Model loading started\n"
     ]
    }
   ],
   "source": [
    "if __name__ == \"__main__\":\n",
    "    print(interact_with_llama(\"What is the capital of France?\"))"
   ]
  },
  {
   "cell_type": "code",
   "execution_count": null,
   "metadata": {},
   "outputs": [],
   "source": []
  }
 ],
 "metadata": {
  "kernelspec": {
   "display_name": "minigrid",
   "language": "python",
   "name": "minigrid"
  },
  "language_info": {
   "codemirror_mode": {
    "name": "ipython",
    "version": 3
   },
   "file_extension": ".py",
   "mimetype": "text/x-python",
   "name": "python",
   "nbconvert_exporter": "python",
   "pygments_lexer": "ipython3",
   "version": "3.9.18"
  }
 },
 "nbformat": 4,
 "nbformat_minor": 2
}
